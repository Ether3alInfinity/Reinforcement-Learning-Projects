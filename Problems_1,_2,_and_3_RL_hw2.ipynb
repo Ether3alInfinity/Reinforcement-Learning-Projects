{
  "cells": [
    {
      "cell_type": "markdown",
      "id": "ef5236c5",
      "metadata": {
        "id": "ef5236c5"
      },
      "source": [
        "We first import necessary packages."
      ]
    },
    {
      "cell_type": "code",
      "execution_count": 1,
      "id": "82354b10",
      "metadata": {
        "id": "82354b10",
        "colab": {
          "base_uri": "https://localhost:8080/"
        },
        "outputId": "ca9fe40b-d0c9-4839-a1ef-b86ce8f52495"
      },
      "outputs": [
        {
          "output_type": "stream",
          "name": "stdout",
          "text": [
            "Collecting gymnasium==0.29.0\n",
            "  Downloading gymnasium-0.29.0-py3-none-any.whl (953 kB)\n",
            "\u001b[2K     \u001b[90m━━━━━━━━━━━━━━━━━━━━━━━━━━━━━━━━━━━━━━━━\u001b[0m \u001b[32m953.8/953.8 kB\u001b[0m \u001b[31m6.2 MB/s\u001b[0m eta \u001b[36m0:00:00\u001b[0m\n",
            "\u001b[?25hRequirement already satisfied: numpy>=1.21.0 in /usr/local/lib/python3.10/dist-packages (from gymnasium==0.29.0) (1.23.5)\n",
            "Requirement already satisfied: cloudpickle>=1.2.0 in /usr/local/lib/python3.10/dist-packages (from gymnasium==0.29.0) (2.2.1)\n",
            "Requirement already satisfied: typing-extensions>=4.3.0 in /usr/local/lib/python3.10/dist-packages (from gymnasium==0.29.0) (4.5.0)\n",
            "Collecting farama-notifications>=0.0.1 (from gymnasium==0.29.0)\n",
            "  Downloading Farama_Notifications-0.0.4-py3-none-any.whl (2.5 kB)\n",
            "Installing collected packages: farama-notifications, gymnasium\n",
            "Successfully installed farama-notifications-0.0.4 gymnasium-0.29.0\n",
            "Requirement already satisfied: matplotlib in /usr/local/lib/python3.10/dist-packages (3.7.1)\n",
            "Requirement already satisfied: contourpy>=1.0.1 in /usr/local/lib/python3.10/dist-packages (from matplotlib) (1.1.1)\n",
            "Requirement already satisfied: cycler>=0.10 in /usr/local/lib/python3.10/dist-packages (from matplotlib) (0.12.1)\n",
            "Requirement already satisfied: fonttools>=4.22.0 in /usr/local/lib/python3.10/dist-packages (from matplotlib) (4.43.1)\n",
            "Requirement already satisfied: kiwisolver>=1.0.1 in /usr/local/lib/python3.10/dist-packages (from matplotlib) (1.4.5)\n",
            "Requirement already satisfied: numpy>=1.20 in /usr/local/lib/python3.10/dist-packages (from matplotlib) (1.23.5)\n",
            "Requirement already satisfied: packaging>=20.0 in /usr/local/lib/python3.10/dist-packages (from matplotlib) (23.2)\n",
            "Requirement already satisfied: pillow>=6.2.0 in /usr/local/lib/python3.10/dist-packages (from matplotlib) (9.4.0)\n",
            "Requirement already satisfied: pyparsing>=2.3.1 in /usr/local/lib/python3.10/dist-packages (from matplotlib) (3.1.1)\n",
            "Requirement already satisfied: python-dateutil>=2.7 in /usr/local/lib/python3.10/dist-packages (from matplotlib) (2.8.2)\n",
            "Requirement already satisfied: six>=1.5 in /usr/local/lib/python3.10/dist-packages (from python-dateutil>=2.7->matplotlib) (1.16.0)\n"
          ]
        }
      ],
      "source": [
        "!pip install gymnasium==0.29.0\n",
        "!pip install matplotlib"
      ]
    },
    {
      "cell_type": "code",
      "execution_count": 2,
      "id": "9808a557",
      "metadata": {
        "id": "9808a557"
      },
      "outputs": [],
      "source": [
        "import numpy as np\n",
        "from numpy.testing import assert_almost_equal\n",
        "from numpy.testing import assert_equal\n",
        "\n",
        "import gymnasium as gym\n",
        "\n",
        "import pprint\n",
        "import matplotlib.pyplot as plt"
      ]
    },
    {
      "cell_type": "markdown",
      "id": "cf420110",
      "metadata": {
        "id": "cf420110"
      },
      "source": [
        "# Frozen Lake MDP\n",
        "Next, we instantiate the [Frozen Lake](https://gymnasium.farama.org/environments/toy_text/frozen_lake/) environment from OpenAI Gymnasium and gain a quick understanding of its key variables and methods.\n",
        "\n",
        "Frozen lake involves crossing a frozen lake from Start(S) to Goal(G) without falling into any Holes(H) by walking over the Frozen(F) lake. The agent may not always move in the intended direction due to the slippery nature of the frozen lake.\n",
        "\n",
        "Follow the hyperlinks to learn more about the envionment [Frozen Lake](https://gymnasium.farama.org/environments/toy_text/frozen_lake/) and its [source code](https://github.com/Farama-Foundation/Gymnasium/blob/main/gymnasium/envs/toy_text/frozen_lake.py). Here is a version of the Frozen Lake environment where the frozen lake is a grid of size 4x4."
      ]
    },
    {
      "cell_type": "markdown",
      "id": "a8d253f9",
      "metadata": {
        "id": "a8d253f9"
      },
      "source": [
        "![FrozenLakeGif](https://www.gymlibrary.dev/_images/frozen_lake.gif)"
      ]
    },
    {
      "cell_type": "code",
      "execution_count": 3,
      "id": "320b0493",
      "metadata": {
        "id": "320b0493"
      },
      "outputs": [],
      "source": [
        "env = gym.make(\"FrozenLake-v1\", is_slippery=True)"
      ]
    },
    {
      "cell_type": "code",
      "execution_count": 4,
      "id": "be3d70cc",
      "metadata": {
        "scrolled": true,
        "id": "be3d70cc",
        "colab": {
          "base_uri": "https://localhost:8080/"
        },
        "outputId": "96e63439-26a6-4e46-b507-63ff43ecea27"
      },
      "outputs": [
        {
          "output_type": "stream",
          "name": "stdout",
          "text": [
            "Map:\n",
            "[['S' 'F' 'F' 'F']\n",
            " ['F' 'H' 'F' 'H']\n",
            " ['F' 'F' 'F' 'H']\n",
            " ['H' 'F' 'F' 'G']]\n"
          ]
        }
      ],
      "source": [
        "print(\"Map:\")\n",
        "print(env.unwrapped.desc.astype('U'))"
      ]
    },
    {
      "cell_type": "markdown",
      "id": "72cdd9d4",
      "metadata": {
        "id": "72cdd9d4"
      },
      "source": [
        "#### States\n",
        "\n",
        "OpenAI Gymnasium environments do not explicitly provide state but instead provide observation. In the Frozen Lake environment, the state and observation are identical. The state denotes the position of the agent."
      ]
    },
    {
      "cell_type": "code",
      "execution_count": 5,
      "id": "d4cf421d",
      "metadata": {
        "id": "d4cf421d",
        "colab": {
          "base_uri": "https://localhost:8080/"
        },
        "outputId": "8fe2c829-318f-4099-bc40-1520b0a30ad5"
      },
      "outputs": [
        {
          "output_type": "stream",
          "name": "stdout",
          "text": [
            "Number of states: 16\n"
          ]
        }
      ],
      "source": [
        "print(f\"Number of states: {env.observation_space.n}\")"
      ]
    },
    {
      "cell_type": "markdown",
      "id": "9e50dab3",
      "metadata": {
        "id": "9e50dab3"
      },
      "source": [
        "#### Actions"
      ]
    },
    {
      "cell_type": "code",
      "execution_count": 6,
      "id": "7a16901d",
      "metadata": {
        "id": "7a16901d",
        "colab": {
          "base_uri": "https://localhost:8080/"
        },
        "outputId": "047e1e3d-dcb9-4b0e-ac6f-4b9ccacac91e"
      },
      "outputs": [
        {
          "output_type": "stream",
          "name": "stdout",
          "text": [
            "Number of actions: 4\n"
          ]
        }
      ],
      "source": [
        "print(f\"Number of actions: {env.action_space.n}\")"
      ]
    },
    {
      "cell_type": "markdown",
      "id": "9af3c38b",
      "metadata": {
        "id": "9af3c38b"
      },
      "source": [
        "#### Transition and Reward Function\n",
        "\n",
        "The transition and rewards functions for Frozen Lake environment is represented in a different format than the one we have seen in the class. They are represented as a unified nested dictionary (P) of the format:\n",
        "\n",
        "`{state: {action:\n",
        "    list of (probability, next state, next reward, is terminal)}}.`\n",
        "\n",
        "Let us first inspect this dictionary."
      ]
    },
    {
      "cell_type": "code",
      "source": [
        "print(f\"Transition and Reward functions for state=0 and action=0:\")\n",
        "pprint.pprint(env.unwrapped.P[0][0])"
      ],
      "metadata": {
        "id": "hErmu37QLZR8",
        "colab": {
          "base_uri": "https://localhost:8080/"
        },
        "outputId": "12017c0b-33b1-4716-d88e-6c7d1910cf67"
      },
      "id": "hErmu37QLZR8",
      "execution_count": 7,
      "outputs": [
        {
          "output_type": "stream",
          "name": "stdout",
          "text": [
            "Transition and Reward functions for state=0 and action=0:\n",
            "[(0.3333333333333333, 0, 0.0, False),\n",
            " (0.3333333333333333, 0, 0.0, False),\n",
            " (0.3333333333333333, 4, 0.0, False)]\n"
          ]
        }
      ]
    },
    {
      "cell_type": "markdown",
      "id": "03e63cd9",
      "metadata": {
        "id": "03e63cd9"
      },
      "source": [
        "Now, we will convert it to the format seen in the class."
      ]
    },
    {
      "cell_type": "code",
      "execution_count": 8,
      "id": "1a0121df",
      "metadata": {
        "id": "1a0121df"
      },
      "outputs": [],
      "source": [
        "def get_mdp_parameters(env):\n",
        "    \"\"\"Helper method to retrieve MDP parameters.\n",
        "\n",
        "    Args:\n",
        "        env: Instance of the Frozen Lake MDP environment.\n",
        "\n",
        "    Returns:\n",
        "        num_states: Int, number of states.\n",
        "        num_actions: Int, number of actions.\n",
        "        transition_fn: A numpy ndarray of shape (num_states, num_actions, num_states)\n",
        "            denoting the transition probabilities, T(s, a, s')\n",
        "        reward_fn: A numpy ndarray of shape (num_states, num_actions, num_states)\n",
        "            denoting the reward of R(s, a, s').\n",
        "    \"\"\"\n",
        "    # Number of states and actions\n",
        "    num_states = env.observation_space.n\n",
        "    num_actions = env.action_space.n\n",
        "\n",
        "    # Helper variable: mapping from state to grid type\n",
        "    flattened_map = env.unwrapped.desc.flatten()\n",
        "\n",
        "    # Initialize Transition and Reward functions\n",
        "    transition_fn = np.zeros(\n",
        "        shape=(num_states, num_actions, num_states))\n",
        "    reward_fn = np.zeros(\n",
        "        shape=(num_states, num_actions, num_states))\n",
        "\n",
        "    # Fill Transition and Reward functions\n",
        "    for s in range(num_states):\n",
        "        terminal = flattened_map[s] in [b\"H\", b\"G\"]\n",
        "        for a in range(num_actions):\n",
        "            if s is terminal:\n",
        "                transition_fn[s, a, s] = 1.\n",
        "                continue\n",
        "            for prob_next_s, next_s, r, _ in env.unwrapped.P[s][a]:\n",
        "                transition_fn[s, a, next_s] += prob_next_s\n",
        "                reward_fn[s, a, next_s] = r\n",
        "\n",
        "\n",
        "    # Ensure Transition function is indeed a probability distribution\n",
        "    for s in range(num_states):\n",
        "        for a in range(num_actions):\n",
        "            assert_almost_equal(transition_fn[s,a].sum(), 1., decimal=7)\n",
        "\n",
        "    # Return as a tuple\n",
        "    return (num_states, num_actions, transition_fn, reward_fn)"
      ]
    },
    {
      "cell_type": "code",
      "execution_count": 9,
      "id": "f05cf0b5",
      "metadata": {
        "id": "f05cf0b5"
      },
      "outputs": [],
      "source": [
        "num_states, num_actions, transition_fn, reward_fn = get_mdp_parameters(env)"
      ]
    },
    {
      "cell_type": "markdown",
      "id": "52487802",
      "metadata": {
        "id": "52487802"
      },
      "source": [
        "# Problem 1.2\n",
        "\n",
        "Next, we will write a program to compute the V-value of a given policy. See the starter code below and complete the missing parts. You can check your code using the tests below."
      ]
    },
    {
      "cell_type": "code",
      "source": [
        "def getRSA(transition_fn, reward_fn):\n",
        "  R_sa = np.zeros((num_states, num_actions))\n",
        "  for sprime in range(reward_fn.shape[2]):\n",
        "    R_sa += np.multiply(reward_fn[:,:,sprime], transition_fn[:,:,sprime])\n",
        "  return R_sa"
      ],
      "metadata": {
        "id": "lrQvge3yaAzE"
      },
      "id": "lrQvge3yaAzE",
      "execution_count": 10,
      "outputs": []
    },
    {
      "cell_type": "code",
      "execution_count": 11,
      "id": "6ca41e7d",
      "metadata": {
        "id": "6ca41e7d"
      },
      "outputs": [],
      "source": [
        "def policy_evaluation_v(policy, transition_fn, reward_fn, gamma=0.99, theta=1e-6, return_q=False):\n",
        "    \"\"\"Implements the policy evaluation algorithm to compute V values.\n",
        "\n",
        "    Args:\n",
        "        policy: A numpy ndarray of shape (num_states, num_actions) denoting\n",
        "            the probability of selecting an action (a) in a given state (s).\n",
        "        transition_fn: A numpy ndarray of shape (num_states, num_actions, num_states)\n",
        "            denoting the transition probabilities, T(s, a, s')\n",
        "        reward_fn: A numpy ndarray of shape (num_states, num_actions, num_states)\n",
        "            denoting the reward of R(s, a, s').\n",
        "        gamma: Discount factor.\n",
        "        theta: Threshold for terminating policy evaluation.\n",
        "\n",
        "    Returns:\n",
        "        v_value: A numpy array of shape (num_states) denoting the value\n",
        "            of state (s) for the given policy.\n",
        "    \"\"\"\n",
        "    # Ensure input dimensions are consistent.\n",
        "    num_states, num_actions, _ = transition_fn.shape\n",
        "    assert_equal(num_states, transition_fn.shape[2])\n",
        "    assert_equal(reward_fn.shape, transition_fn.shape)\n",
        "    assert_equal(policy.shape, (num_states, num_actions))\n",
        "\n",
        "    # Initialize value\n",
        "    v_value = np.zeros(shape=(num_states, ))\n",
        "    #print(v_value)\n",
        "\n",
        "    # R(s, a)\n",
        "    R_sa = getRSA(transition_fn, reward_fn)\n",
        "    # R_sa = np.dot(reward_fn, np.transpose(transition_fn, (0, 2, 1))) # assume s by a\n",
        "\n",
        "    #print(num_states, reward_fn.shape, transition_fn.shape, R_sa.shape)\n",
        "\n",
        "    # Evaluate value\n",
        "    while True:\n",
        "        delta = 0\n",
        "        ######## PUT YOUR CODE HERE ########\n",
        "        for s_i in range(num_states):\n",
        "          v = v_value[s_i]\n",
        "          v_over_actions = 0\n",
        "          v_per_action = []\n",
        "          # print(np.sum(R_sa + gamma*np.sum(\n",
        "          #     transition_fn*v_value[None, None, :], axis=2), axis=1)[s_i])\n",
        "          for a_i in range(num_actions):\n",
        "            asum = R_sa[s_i][a_i] + gamma*np.dot(transition_fn[s_i][a_i], v_value)\n",
        "            #print(asum, asum.shape, transition_fn[s_i][a_i], v_value)\n",
        "            v_over_actions += asum*policy[s_i][a_i]\n",
        "            if return_q:\n",
        "              v_per_action.append(asum)\n",
        "          v_value[s_i] = v_over_actions\n",
        "          delta = max(delta, np.abs(v - v_value[s_i]))\n",
        "\n",
        "        ######## PUT YOUR CODE HERE ########\n",
        "        if delta < theta:\n",
        "            break\n",
        "\n",
        "    return v_value if not return_q else v_per_action"
      ]
    },
    {
      "cell_type": "markdown",
      "id": "e99b3f96",
      "metadata": {
        "id": "e99b3f96"
      },
      "source": [
        "#### Test Code\n",
        "You can use the test code to check and develop your solution."
      ]
    },
    {
      "cell_type": "code",
      "execution_count": 12,
      "id": "e5b5bc56",
      "metadata": {
        "id": "e5b5bc56"
      },
      "outputs": [],
      "source": [
        "def test_policy_evaluation_v(test_policy, test_v_value, transition_fn, reward_fn, test_policy_name):\n",
        "    \"\"\"Test code for policy evaluation of V values.\"\"\"\n",
        "    v_value = policy_evaluation_v(test_policy, transition_fn, reward_fn)\n",
        "    try:\n",
        "        assert_almost_equal(v_value, test_v_value, decimal=2)\n",
        "    except AssertionError:\n",
        "        print(\"The V value of \" + test_policy_name + \" is incorrect.\")\n",
        "    else:\n",
        "        print(\"The V value of \" + test_policy_name + \" is correct to at least 2 decimal values.\")"
      ]
    },
    {
      "cell_type": "code",
      "execution_count": 13,
      "id": "a873941d",
      "metadata": {
        "id": "a873941d",
        "colab": {
          "base_uri": "https://localhost:8080/"
        },
        "outputId": "e79e78ff-1826-4fc6-f94d-054333c46f75"
      },
      "outputs": [
        {
          "output_type": "stream",
          "name": "stdout",
          "text": [
            "The V value of policy A is correct to at least 2 decimal values.\n"
          ]
        }
      ],
      "source": [
        "a_test_policy = np.full(fill_value=1. / num_actions, shape=(num_states, num_actions))\n",
        "a_test_v_value = np.array(\n",
        "        [0.01235356, 0.01042298, 0.01933735, 0.00947697,\n",
        "         0.01478582, 0.        , 0.03889412, 0.        ,\n",
        "         0.0326019 , 0.08433739, 0.13781067, 0.        ,\n",
        "         0.        , 0.17034467, 0.43357932, 0.        ])\n",
        "test_policy_evaluation_v(a_test_policy, a_test_v_value, transition_fn, reward_fn, \"policy A\")"
      ]
    },
    {
      "cell_type": "code",
      "execution_count": 14,
      "id": "c8d53c12",
      "metadata": {
        "id": "c8d53c12",
        "colab": {
          "base_uri": "https://localhost:8080/"
        },
        "outputId": "aceea00d-80a4-43e4-a6c6-0831b6790306"
      },
      "outputs": [
        {
          "output_type": "stream",
          "name": "stdout",
          "text": [
            "The V value of policy B is correct to at least 2 decimal values.\n"
          ]
        }
      ],
      "source": [
        "b_test_policy  = np.zeros(shape=(num_states, num_actions))\n",
        "b_test_policy[:,2] = 1.\n",
        "b_test_v_value = np.array(\n",
        "        [0.02883834, 0.02218502, 0.04504254, 0.        ,\n",
        "         0.03636706, 0.        , 0.09145015, 0.        ,\n",
        "         0.0813651 , 0.21019397, 0.23207916, 0.        ,\n",
        "         0.        , 0.40487249, 0.61182007, 0.        ])\n",
        "test_policy_evaluation_v(b_test_policy, b_test_v_value, transition_fn, reward_fn, \"policy B\")"
      ]
    },
    {
      "cell_type": "code",
      "execution_count": 15,
      "id": "90469e4c",
      "metadata": {
        "id": "90469e4c",
        "colab": {
          "base_uri": "https://localhost:8080/"
        },
        "outputId": "4b9817fd-a07e-48c3-adc5-a6a9a624adcd"
      },
      "outputs": [
        {
          "output_type": "stream",
          "name": "stdout",
          "text": [
            "The V value of policy C is correct to at least 2 decimal values.\n"
          ]
        }
      ],
      "source": [
        "c_test_policy  = np.zeros(shape=(num_states, num_actions))\n",
        "c_test_policy[:,0] = 1.\n",
        "c_test_v_value = np.zeros(shape=(num_states, ))\n",
        "test_policy_evaluation_v(c_test_policy, c_test_v_value, transition_fn, reward_fn, \"policy C\")"
      ]
    },
    {
      "cell_type": "markdown",
      "id": "3ec4d257",
      "metadata": {
        "id": "3ec4d257"
      },
      "source": [
        "#### Grader Code\n",
        "Report the output of the grader code in your pdf submission."
      ]
    },
    {
      "cell_type": "code",
      "execution_count": 16,
      "id": "5aa85313",
      "metadata": {
        "id": "5aa85313",
        "colab": {
          "base_uri": "https://localhost:8080/"
        },
        "outputId": "e8fbd294-14f5-4b92-cc96-fa93fc759322"
      },
      "outputs": [
        {
          "output_type": "stream",
          "name": "stdout",
          "text": [
            "The V value of policy A is correct to at least 2 decimal values.\n",
            "The V value of policy B is correct to at least 2 decimal values.\n",
            "The V value of policy C is correct to at least 2 decimal values.\n"
          ]
        }
      ],
      "source": [
        "test_policy_evaluation_v(a_test_policy, a_test_v_value, transition_fn, reward_fn, \"policy A\")\n",
        "test_policy_evaluation_v(b_test_policy, b_test_v_value, transition_fn, reward_fn, \"policy B\")\n",
        "test_policy_evaluation_v(c_test_policy, c_test_v_value, transition_fn, reward_fn, \"policy C\")"
      ]
    },
    {
      "cell_type": "code",
      "execution_count": 17,
      "id": "77e3ef0c",
      "metadata": {
        "id": "77e3ef0c",
        "colab": {
          "base_uri": "https://localhost:8080/",
          "height": 106
        },
        "outputId": "7d8464dd-47bb-4ece-de86-a85d22c4ed0b"
      },
      "outputs": [
        {
          "output_type": "display_data",
          "data": {
            "text/plain": [
              "<Figure size 1000x1000 with 1 Axes>"
            ],
            "image/png": "[encoded data removed]"
          },
          "metadata": {}
        }
      ],
      "source": [
        "def plot_grader_v_value():\n",
        "    grader_policy = np.zeros(shape=(num_states, num_actions))\n",
        "    grader_policy[ 0:12, 1] = 1.\n",
        "    grader_policy[12:16, 2] = 1.\n",
        "    grader_v_value = policy_evaluation_v(grader_policy, transition_fn, reward_fn)\n",
        "\n",
        "    fig, ax = plt.subplots()\n",
        "    im = ax.imshow(grader_v_value.reshape((1, num_states)), cmap=\"viridis\")\n",
        "\n",
        "    ax.set_xticks(np.arange(num_states))\n",
        "\n",
        "    for s in range(num_states):\n",
        "        text = ax.text(s, 0, round(grader_v_value[s],3), ha=\"center\", va=\"center\", color=\"w\", fontsize=10)\n",
        "\n",
        "    ax.set_title('V Value of Grader Policy')\n",
        "    fig.set_size_inches(10., 10.)\n",
        "    fig.tight_layout()\n",
        "    plt.xlabel('State')\n",
        "    plt.ylabel('Value')\n",
        "    plt.show()\n",
        "\n",
        "plot_grader_v_value()"
      ]
    },
    {
      "cell_type": "markdown",
      "id": "bfe9de96",
      "metadata": {
        "id": "bfe9de96"
      },
      "source": [
        "# Problem 1.3\n",
        "\n",
        "Next, we will write a program to compute the q value of a policy."
      ]
    },
    {
      "cell_type": "code",
      "execution_count": 18,
      "id": "af355f7b",
      "metadata": {
        "id": "af355f7b"
      },
      "outputs": [],
      "source": [
        "def policy_evaluation_q(policy, transition_fn, reward_fn, gamma=0.99, theta=1e-6):\n",
        "    \"\"\"Implements the policy evaluation algorithm to compute Q values.\n",
        "\n",
        "    Args:\n",
        "        policy: A numpy ndarray of shape (num_states, num_actions) denoting\n",
        "            the probability of selecting an action (a) in a given state (s).\n",
        "        transition_fn: A numpy ndarray of shape (num_states, num_actions, num_states)\n",
        "            denoting the transition probabilities, T(s, a, s')\n",
        "        reward_fn: A numpy ndarray of shape (num_states, num_actions, num_states)\n",
        "            denoting the reward of R(s, a, s').\n",
        "        gamma: Discount factor.\n",
        "        theta: Threshold for terminating policy evaluation.\n",
        "\n",
        "    Returns:\n",
        "        q_value: A numpy ndarray of shape (num_states, num_actions) denoting the value\n",
        "            of state (s) for the given policy.\n",
        "    \"\"\"\n",
        "    # Ensure input dimensions are consistent.\n",
        "    num_states, num_actions, _ = transition_fn.shape\n",
        "    assert_equal(num_states, transition_fn.shape[2])\n",
        "    assert_equal(reward_fn.shape, transition_fn.shape)\n",
        "    assert_equal(policy.shape, (num_states, num_actions))\n",
        "\n",
        "    # Initialize value\n",
        "    q_value = np.zeros(shape=(num_states, num_actions))\n",
        "\n",
        "    # First, we compute V value\n",
        "    v_value = policy_evaluation_v(policy,\n",
        "                                  transition_fn,\n",
        "                                  reward_fn,\n",
        "                                  gamma,\n",
        "                                  theta)\n",
        "\n",
        "    # Then, we use the relation between V and Q to obtain Q value.\n",
        "    ######## PUT YOUR CODE HERE ########\n",
        "\n",
        "    for s_i in range(num_states):\n",
        "      for a_i in range(num_actions):\n",
        "        for sprime in range(num_states):\n",
        "          q_value[s_i][a_i] += transition_fn[s_i][a_i][sprime]*(reward_fn[s_i][a_i][sprime] + gamma*v_value[sprime])\n",
        "\n",
        "    ######## PUT YOUR CODE HERE ########\n",
        "\n",
        "    return q_value"
      ]
    },
    {
      "cell_type": "markdown",
      "id": "77ece783",
      "metadata": {
        "id": "77ece783"
      },
      "source": [
        "#### Test Code\n",
        "You can use the test code to check and develop your solution."
      ]
    },
    {
      "cell_type": "code",
      "execution_count": 19,
      "id": "b0254221",
      "metadata": {
        "id": "b0254221"
      },
      "outputs": [],
      "source": [
        "def test_policy_evaluation_q(test_policy, test_q_value, transition_fn, reward_fn, test_policy_name):\n",
        "    \"\"\"Test code for policy evaluation of Q values.\"\"\"\n",
        "    q_value = policy_evaluation_q(test_policy, transition_fn, reward_fn)\n",
        "    try:\n",
        "        assert_almost_equal(q_value, test_q_value, decimal=2)\n",
        "    except AssertionError:\n",
        "        print(\"The Q value of \" + test_policy_name + \" is incorrect.\")\n",
        "    else:\n",
        "        print(\"The Q value of \" + test_policy_name + \" is correct to at least 2 decimal values.\")"
      ]
    },
    {
      "cell_type": "code",
      "execution_count": 20,
      "id": "047a79e5",
      "metadata": {
        "id": "047a79e5",
        "colab": {
          "base_uri": "https://localhost:8080/"
        },
        "outputId": "f9d6e086-43aa-4ee0-92bd-01a0411b4ada"
      },
      "outputs": [
        {
          "output_type": "stream",
          "name": "stdout",
          "text": [
            "The Q value of policy A is correct to at least 2 decimal values.\n"
          ]
        }
      ],
      "source": [
        "a_test_policy = np.full(fill_value=1. / num_actions, shape=(num_states, num_actions))\n",
        "a_test_q_value = np.array(\n",
        "      [[0.01303267, 0.01239558, 0.01239558, 0.01159293],\n",
        "       [0.00751626, 0.010458  , 0.00982091, 0.01389758],\n",
        "       [0.02265597, 0.01940204, 0.02234378, 0.01294831],\n",
        "       [0.00950873, 0.00950873, 0.0062548 , 0.01263612],\n",
        "       [0.01971462, 0.01563795, 0.0148353 , 0.00895599],\n",
        "       [0.        , 0.        , 0.        , 0.        ],\n",
        "       [0.05185885, 0.04547752, 0.05185885, 0.00638133],\n",
        "       [0.        , 0.        , 0.        , 0.        ],\n",
        "       [0.01563795, 0.03858996, 0.03271066, 0.04346928],\n",
        "       [0.06697237, 0.11244989, 0.10169126, 0.05623615],\n",
        "       [0.18374757, 0.17091251, 0.15591623, 0.0406664 ],\n",
        "       [0.        , 0.        , 0.        , 0.        ],\n",
        "       [0.        , 0.        , 0.        , 0.        ],\n",
        "       [0.08404508, 0.19929491, 0.22712625, 0.17091251],\n",
        "       [0.24477244, 0.53262825, 0.52189203, 0.43502459],\n",
        "       [0.        , 0.        , 0.        , 0.        ]])\n",
        "test_policy_evaluation_q(a_test_policy, a_test_q_value, transition_fn, reward_fn, \"policy A\")"
      ]
    },
    {
      "cell_type": "code",
      "execution_count": 21,
      "id": "72f3e9a5",
      "metadata": {
        "id": "72f3e9a5",
        "colab": {
          "base_uri": "https://localhost:8080/"
        },
        "outputId": "d7247387-867d-460a-d27a-fe863768b4ca"
      },
      "outputs": [
        {
          "output_type": "stream",
          "name": "stdout",
          "text": [
            "The Q value of policy B is correct to at least 2 decimal values.\n"
          ]
        }
      ],
      "source": [
        "b_test_policy  = np.zeros(shape=(num_states, num_actions))\n",
        "b_test_policy[:,2] = 1.\n",
        "b_test_q_value = np.array(\n",
        "       [[0.03103443, 0.02883884, 0.02883884, 0.02635436],\n",
        "        [0.01683771, 0.02438069, 0.02218509, 0.03170175],\n",
        "        [0.05236364, 0.03749961, 0.04504259, 0.02218509],\n",
        "        [0.01486404, 0.01486404, 0.        , 0.01486404],\n",
        "        [0.04836826, 0.03885161, 0.03636713, 0.02151778],\n",
        "        [0.        , 0.        , 0.        , 0.        ],\n",
        "        [0.09145016, 0.07658612, 0.09145016, 0.01486404],\n",
        "        [0.        , 0.        , 0.        , 0.        ],\n",
        "        [0.03885161, 0.09621449, 0.08136514, 0.10821562],\n",
        "        [0.1604584 , 0.23704453, 0.21019404, 0.1034366 ],\n",
        "        [0.30144318, 0.27126463, 0.23207917, 0.09954256],\n",
        "        [0.        , 0.        , 0.        , 0.        ],\n",
        "        [0.        , 0.        , 0.        , 0.        ],\n",
        "        [0.20297193, 0.33550854, 0.40487255, 0.27126463],\n",
        "        [0.41209467, 0.66884188, 0.61182008, 0.54352738],\n",
        "        [0.        , 0.        , 0.        , 0.        ]])\n",
        "test_policy_evaluation_q(b_test_policy, b_test_q_value, transition_fn, reward_fn, \"policy B\")"
      ]
    },
    {
      "cell_type": "code",
      "execution_count": 22,
      "id": "e593f2fc",
      "metadata": {
        "id": "e593f2fc",
        "colab": {
          "base_uri": "https://localhost:8080/"
        },
        "outputId": "a02d27e3-4d25-4136-c520-1f71517d0918"
      },
      "outputs": [
        {
          "output_type": "stream",
          "name": "stdout",
          "text": [
            "The Q value of policy C is correct to at least 2 decimal values.\n"
          ]
        }
      ],
      "source": [
        "c_test_policy  = np.zeros(shape=(num_states, num_actions))\n",
        "c_test_policy[:,1] = 0.\n",
        "c_test_q_value = np.zeros(shape=(num_states, num_actions))\n",
        "c_test_q_value[14,1:4] = 1./3.\n",
        "test_policy_evaluation_q(c_test_policy, c_test_q_value, transition_fn, reward_fn, \"policy C\")"
      ]
    },
    {
      "cell_type": "markdown",
      "id": "540d4189",
      "metadata": {
        "id": "540d4189"
      },
      "source": [
        "#### Grader Code\n",
        "Report the output of the grader code in your pdf submission."
      ]
    },
    {
      "cell_type": "code",
      "execution_count": 23,
      "id": "9cb7b31b",
      "metadata": {
        "id": "9cb7b31b",
        "colab": {
          "base_uri": "https://localhost:8080/"
        },
        "outputId": "d62bb850-f960-46ae-f389-a292b59f0d1c"
      },
      "outputs": [
        {
          "output_type": "stream",
          "name": "stdout",
          "text": [
            "The Q value of policy A is correct to at least 2 decimal values.\n",
            "The Q value of policy B is correct to at least 2 decimal values.\n",
            "The Q value of policy C is correct to at least 2 decimal values.\n"
          ]
        }
      ],
      "source": [
        "test_policy_evaluation_q(a_test_policy, a_test_q_value, transition_fn, reward_fn, \"policy A\")\n",
        "test_policy_evaluation_q(b_test_policy, b_test_q_value, transition_fn, reward_fn, \"policy B\")\n",
        "test_policy_evaluation_q(c_test_policy, c_test_q_value, transition_fn, reward_fn, \"policy C\")"
      ]
    },
    {
      "cell_type": "code",
      "execution_count": 24,
      "id": "6fd0b9fa",
      "metadata": {
        "id": "6fd0b9fa",
        "colab": {
          "base_uri": "https://localhost:8080/",
          "height": 218
        },
        "outputId": "680b3e64-efc9-409d-d65f-54557b1eda46"
      },
      "outputs": [
        {
          "output_type": "display_data",
          "data": {
            "text/plain": [
              "<Figure size 1000x1000 with 1 Axes>"
            ],
            "image/png": "[encoded data removed]"
          },
          "metadata": {}
        }
      ],
      "source": [
        "def plot_grader_q_value():\n",
        "    grader_policy = np.zeros(shape=(num_states, num_actions))\n",
        "    grader_policy[ 0:12, 1] = 1.\n",
        "    grader_policy[12:16, 2] = 1.\n",
        "    grader_q_value = policy_evaluation_q(grader_policy, transition_fn, reward_fn)\n",
        "\n",
        "    fig, ax = plt.subplots()\n",
        "    im = ax.imshow(grader_q_value.transpose(), cmap=\"viridis\")\n",
        "\n",
        "    ax.set_yticks(np.arange(num_actions))\n",
        "    ax.set_xticks(np.arange(num_states))\n",
        "\n",
        "    for s in range(num_states):\n",
        "        for a in range(num_actions):\n",
        "            text = ax.text(s, a, round(grader_q_value[s,a],3), ha=\"center\", va=\"center\", color=\"w\", fontsize=10)\n",
        "\n",
        "    ax.set_title('Q Value of Grader Policy')\n",
        "    fig.set_size_inches(10., 10.)\n",
        "    fig.tight_layout()\n",
        "    plt.xlabel('State')\n",
        "    plt.ylabel('Action')\n",
        "    plt.show()\n",
        "\n",
        "plot_grader_q_value()"
      ]
    },
    {
      "cell_type": "markdown",
      "id": "53145a97",
      "metadata": {
        "id": "53145a97"
      },
      "source": [
        "# Problem 2.1\n",
        "\n",
        "In this problem, we will use the value iteration algorithm to compute the optimal policy."
      ]
    },
    {
      "cell_type": "code",
      "execution_count": 25,
      "id": "3785577e",
      "metadata": {
        "id": "3785577e"
      },
      "outputs": [],
      "source": [
        "def value_iteration(transition_fn, reward_fn, gamma=0.99, theta=1e-6, return_per_iter=False, guess=None):\n",
        "    \"\"\"Implements the value iteration algorithm.\n",
        "\n",
        "    Args:\n",
        "        transition_fn: A numpy ndarray of shape (num_states, num_actions, num_states)\n",
        "            denoting the transition probabilities, T(s, a, s')\n",
        "        reward_fn: A numpy ndarray of shape (num_states, num_actions, num_states)\n",
        "            denoting the reward of R(s, a, s').\n",
        "        gamma: Discount factor.\n",
        "        theta: Threshold for terminating policy evaluation.\n",
        "\n",
        "    Returns:\n",
        "        optimal_policy: A numpy ndarray of shape (num_states, num_actions) denoting\n",
        "            the probability of selecting an action (a) in a given state (s).\n",
        "        optimal_v_value: A numpy ndarray of shape (num_states, ) denoting\n",
        "            the optimal value of each state (s).\n",
        "    \"\"\"\n",
        "    # Ensure input dimensions are consistent.\n",
        "    num_states, num_actions, _ = transition_fn.shape\n",
        "    assert_equal(num_states, transition_fn.shape[2])\n",
        "    assert_equal(reward_fn.shape, transition_fn.shape)\n",
        "\n",
        "    # Initialize value\n",
        "    v_value = np.zeros(shape=(num_states, )) if guess is None else guess\n",
        "\n",
        "    # Perform value iteration to compute optimal V\n",
        "    num_iteration = 0\n",
        "    v_per_iter = np.zeros((1, 16))\n",
        "    R_sa = getRSA(transition_fn, reward_fn)\n",
        "    while True:\n",
        "        delta = 0\n",
        "        ######## PUT YOUR CODE HERE ########\n",
        "        for s_i in range(num_states):\n",
        "            v = v_value[s_i]\n",
        "            a_vals = np.zeros((num_actions, ))\n",
        "            for a_i in range(num_actions):\n",
        "                a_vals[a_i] = R_sa[s_i][a_i] + gamma*np.dot(transition_fn[s_i][a_i], v_value)\n",
        "            v_value[s_i] = np.max(a_vals)\n",
        "            delta = max(delta, np.abs(v-v_value[s_i]))\n",
        "\n",
        "        ######## PUT YOUR CODE HERE ########\n",
        "        v_per_iter = np.vstack((v_per_iter, v_value)) if num_iteration > 0 else v_value[None, :]\n",
        "        num_iteration += 1\n",
        "        #print(v_value, \"iter\", num_iteration)\n",
        "        if delta < theta:\n",
        "            #print(\"FINAL\", v_per_iter)\n",
        "            break\n",
        "    optimal_v_value = v_value\n",
        "    #print(num_iteration, \"iters\")\n",
        "\n",
        "    # Compute optimal Q from optimal V\n",
        "    optimal_q_value = np.zeros(shape=(num_states, num_actions))\n",
        "    ######## PUT YOUR CODE HERE ########\n",
        "    for s_i in range(num_states):\n",
        "        for a_i in range(num_actions):\n",
        "            for sprime in range(num_states):\n",
        "                optimal_q_value[s_i][a_i] += transition_fn[s_i][a_i][sprime]*(\n",
        "                    reward_fn[s_i][a_i][sprime] + gamma*optimal_v_value[sprime])\n",
        "\n",
        "    ######## PUT YOUR CODE HERE ########\n",
        "\n",
        "    # Compute optimal policy from optimal Q\n",
        "    optimal_policy = np.zeros(shape=(num_states, num_actions))\n",
        "    for s in range(num_states):\n",
        "        optimal_action_in_s = optimal_q_value[s].argmax()\n",
        "        optimal_policy[s, optimal_action_in_s] = 1.\n",
        "\n",
        "    return (optimal_policy, optimal_v_value) if not return_per_iter else (optimal_policy, optimal_v_value, v_per_iter)"
      ]
    },
    {
      "cell_type": "markdown",
      "id": "a935a037",
      "metadata": {
        "id": "a935a037"
      },
      "source": [
        "#### Test Code\n",
        "You can use the test code to check and develop your solution."
      ]
    },
    {
      "cell_type": "code",
      "execution_count": 26,
      "id": "2c727098",
      "metadata": {
        "id": "2c727098"
      },
      "outputs": [],
      "source": [
        "def test_value_iteration(test_v_value, transition_fn, reward_fn, gamma):\n",
        "    \"\"\"Test code for value iteration.\"\"\"\n",
        "    _, optimal_v_value = value_iteration(transition_fn, reward_fn, gamma)\n",
        "    # print(optimal_v_value.shape)\n",
        "    try:\n",
        "        assert_almost_equal(test_v_value, optimal_v_value, decimal=2)\n",
        "    except AssertionError:\n",
        "        print(\"The optimal V value for gamma = \" + str(gamma) + \" is incorrect.\")\n",
        "    else:\n",
        "        print(\"The optimal V value for gamma = \" + str(gamma) + \" is correct.\")"
      ]
    },
    {
      "cell_type": "code",
      "execution_count": 27,
      "id": "511daa20",
      "metadata": {
        "id": "511daa20",
        "colab": {
          "base_uri": "https://localhost:8080/"
        },
        "outputId": "fa5e4d5e-8eec-4b48-813d-eb8b7dc8c4e1"
      },
      "outputs": [
        {
          "output_type": "stream",
          "name": "stdout",
          "text": [
            "The optimal V value for gamma = 0.0 is correct.\n"
          ]
        }
      ],
      "source": [
        "test_v_value_for_gamma_000 = np.array(\n",
        "     [0.       ,0.       ,0.       ,0.      ,\n",
        "      0.       ,0.       ,0.       ,0.      ,\n",
        "      0.       ,0.       ,0.       ,0.      ,\n",
        "      0.       ,0.       ,0.333333 ,0.      ])\n",
        "test_value_iteration(test_v_value_for_gamma_000, transition_fn, reward_fn, gamma=0.0)"
      ]
    },
    {
      "cell_type": "code",
      "execution_count": 28,
      "id": "b88a7cee",
      "metadata": {
        "id": "b88a7cee",
        "colab": {
          "base_uri": "https://localhost:8080/"
        },
        "outputId": "7a482668-b0dd-43a0-903f-9f8d6d89b214"
      },
      "outputs": [
        {
          "output_type": "stream",
          "name": "stdout",
          "text": [
            "The optimal V value for gamma = 0.9 is correct.\n"
          ]
        }
      ],
      "source": [
        "test_v_value_for_gamma_090 = np.array(\n",
        "    [0.068886 ,0.061411 ,0.074408 ,0.055805,\n",
        "     0.091851 ,0.       ,0.112207 ,0.      ,\n",
        "     0.145434 ,0.247496 ,0.299617 ,0.      ,\n",
        "     0.       ,0.379935 ,0.63902  ,0.      ])\n",
        "test_value_iteration(test_v_value_for_gamma_090, transition_fn, reward_fn, gamma=0.9)"
      ]
    },
    {
      "cell_type": "markdown",
      "id": "ddf5e49c",
      "metadata": {
        "id": "ddf5e49c"
      },
      "source": [
        "A helper function to run and render a policy.\n",
        "Note: The rendering will not work on Google Colab."
      ]
    },
    {
      "cell_type": "code",
      "execution_count": 29,
      "id": "e7c90b0e",
      "metadata": {
        "id": "e7c90b0e"
      },
      "outputs": [],
      "source": [
        "def render_policy(policy):\n",
        "    \"\"\"Renders a policy for the Frozen Lake environment.\n",
        "\n",
        "    Args:\n",
        "        policy: A numpy ndarray of shape (num_states, num_actions) denoting\n",
        "            the probability of selecting an action (a) in a given state (s).\n",
        "\n",
        "    Returns:\n",
        "        None\n",
        "    \"\"\"\n",
        "    env = gym.make(\"FrozenLake-v1\", is_slippery=True, render_mode=\"human\")\n",
        "    assert_equal(policy.shape, (env.observation_space.n, env.action_space.n))\n",
        "    state, _ = env.reset()\n",
        "    while True:\n",
        "        action = policy[state].argmax()\n",
        "        next_state, _, is_terminal, _, _ = env.step(action)\n",
        "        if is_terminal:\n",
        "            env.close()\n",
        "            break\n",
        "        state = next_state"
      ]
    },
    {
      "cell_type": "code",
      "execution_count": 30,
      "id": "3b55c082",
      "metadata": {
        "id": "3b55c082"
      },
      "outputs": [],
      "source": [
        "optimal_policy, _ = value_iteration(transition_fn, reward_fn, gamma=0.99)\n",
        "try:\n",
        "    render_policy(optimal_policy)\n",
        "except Exception as e:\n",
        "    print(e)\n",
        "    print(\"Either your python runtime does not support rendering...\")\n",
        "    print(\"or your pygame installation is incorrect.\")"
      ]
    },
    {
      "cell_type": "markdown",
      "id": "5e70d196",
      "metadata": {
        "id": "5e70d196"
      },
      "source": [
        "#### Grader Code\n",
        "Report the output of the grader code in your pdf submission."
      ]
    },
    {
      "cell_type": "code",
      "execution_count": 47,
      "id": "6369f278",
      "metadata": {
        "id": "6369f278",
        "colab": {
          "base_uri": "https://localhost:8080/"
        },
        "outputId": "3282d039-a62a-48c7-89da-a8d88b60960f"
      },
      "outputs": [
        {
          "output_type": "stream",
          "name": "stdout",
          "text": [
            "The optimal V value for gamma = 0.0 is correct.\n",
            "The optimal V value for gamma = 0.9 is correct.\n"
          ]
        }
      ],
      "source": [
        "test_value_iteration(test_v_value_for_gamma_000, transition_fn, reward_fn, gamma=0.0)\n",
        "test_value_iteration(test_v_value_for_gamma_090, transition_fn, reward_fn, gamma=0.9)"
      ]
    },
    {
      "cell_type": "code",
      "execution_count": 48,
      "id": "87c7830a",
      "metadata": {
        "id": "87c7830a",
        "colab": {
          "base_uri": "https://localhost:8080/",
          "height": 106
        },
        "outputId": "2de144a9-c026-4665-b5e8-96e754ba5008"
      },
      "outputs": [
        {
          "output_type": "display_data",
          "data": {
            "text/plain": [
              "<Figure size 1000x1000 with 1 Axes>"
            ],
            "image/png": "[encoded data removed]"
          },
          "metadata": {}
        }
      ],
      "source": [
        "def plot_grader_value_iteration():\n",
        "    grader_optimal_policy, grader_optimal_v_value = value_iteration(transition_fn, reward_fn, gamma=0.99)\n",
        "\n",
        "    fig, ax = plt.subplots()\n",
        "    im = ax.imshow(grader_optimal_v_value.reshape((1, num_states)), cmap=\"viridis\")\n",
        "\n",
        "    ax.set_xticks(np.arange(num_states))\n",
        "\n",
        "    for s in range(num_states):\n",
        "        text = ax.text(s, 0, round(grader_optimal_v_value[s],3), ha=\"center\", va=\"center\", color=\"w\", fontsize=10)\n",
        "\n",
        "    ax.set_title('V Value of Optimal Policy')\n",
        "    fig.set_size_inches(10., 10.)\n",
        "    fig.tight_layout()\n",
        "    plt.xlabel('State')\n",
        "    plt.ylabel('Value')\n",
        "    plt.show()\n",
        "\n",
        "plot_grader_value_iteration()"
      ]
    },
    {
      "cell_type": "markdown",
      "id": "b707430d",
      "metadata": {
        "id": "b707430d"
      },
      "source": [
        "# Problem 2.2\n",
        "\n",
        "Insert your code to generate the plots here."
      ]
    },
    {
      "cell_type": "code",
      "source": [
        "import copy"
      ],
      "metadata": {
        "id": "uVcXTcHItzFL"
      },
      "id": "uVcXTcHItzFL",
      "execution_count": 33,
      "outputs": []
    },
    {
      "cell_type": "code",
      "execution_count": 49,
      "id": "2397939b",
      "metadata": {
        "id": "2397939b",
        "colab": {
          "base_uri": "https://localhost:8080/",
          "height": 450
        },
        "outputId": "d31cedc8-f028-4505-dd5b-99e460b3e75d"
      },
      "outputs": [
        {
          "output_type": "execute_result",
          "data": {
            "text/plain": [
              "[<matplotlib.lines.Line2D at 0x794689331ea0>]"
            ]
          },
          "metadata": {},
          "execution_count": 49
        },
        {
          "output_type": "display_data",
          "data": {
            "text/plain": [
              "<Figure size 640x480 with 1 Axes>"
            ],
            "image/png": "[encoded data removed]"
          },
          "metadata": {}
        }
      ],
      "source": [
        "######## PUT YOUR CODE HERE ########\n",
        "optpolicy, optvvalue, vperiter = value_iteration(transition_fn,\n",
        "                             reward_fn,\n",
        "                             gamma=0.99,\n",
        "                             theta=1e-6,\n",
        "                             return_per_iter=True)\n",
        "\n",
        "vperiterprev = copy.deepcopy(vperiter)\n",
        "vperiterprev = np.vstack((np.zeros((num_states, )), vperiter))\n",
        "# print(vperiter[10])\n",
        "# print(vperiterprev[1])\n",
        "array1 = [np.max(np.abs(vperiter[i] - vperiterprev[i])) for i in range(len(vperiter))]\n",
        "array2 = [np.max(np.abs(vperiter[i] - vperiter[-1])) for i in range(len(vperiter))]\n",
        "\n",
        "# print()\n",
        "# print(array1)\n",
        "# print(array2)\n",
        "# print(vperiter[100] - vperiterprev[100])\n",
        "# print(vperiter[1])\n",
        "# print(vperiterprev[1])\n",
        "\n",
        "plt.plot(range(len(array1)), array1)\n",
        "######## PUT YOUR CODE HERE ########"
      ]
    },
    {
      "cell_type": "code",
      "source": [
        "plt.plot(range(len(array2)), array2)"
      ],
      "metadata": {
        "colab": {
          "base_uri": "https://localhost:8080/",
          "height": 447
        },
        "id": "w_znHjQ3dyCH",
        "outputId": "eb3084ce-9ffc-4528-b632-c937089bbb68"
      },
      "id": "w_znHjQ3dyCH",
      "execution_count": 50,
      "outputs": [
        {
          "output_type": "execute_result",
          "data": {
            "text/plain": [
              "[<matplotlib.lines.Line2D at 0x7946893a14e0>]"
            ]
          },
          "metadata": {},
          "execution_count": 50
        },
        {
          "output_type": "display_data",
          "data": {
            "text/plain": [
              "<Figure size 640x480 with 1 Axes>"
            ],
            "image/png": "[encoded data removed]"
          },
          "metadata": {}
        }
      ]
    },
    {
      "cell_type": "code",
      "source": [
        "str(len(array2)) + \" iterations\""
      ],
      "metadata": {
        "colab": {
          "base_uri": "https://localhost:8080/",
          "height": 36
        },
        "id": "mLe5A5Nhh68R",
        "outputId": "6c61c0fa-4c23-4fdc-bf8a-5761cc340407"
      },
      "id": "mLe5A5Nhh68R",
      "execution_count": 54,
      "outputs": [
        {
          "output_type": "execute_result",
          "data": {
            "text/plain": [
              "'228 iterations'"
            ],
            "application/vnd.google.colaboratory.intrinsic+json": {
              "type": "string"
            }
          },
          "metadata": {},
          "execution_count": 54
        }
      ]
    },
    {
      "cell_type": "markdown",
      "id": "dcc71078",
      "metadata": {
        "id": "dcc71078"
      },
      "source": [
        "# Problem 2.4\n",
        "\n",
        "Insert your code to generate the plots here."
      ]
    },
    {
      "cell_type": "code",
      "execution_count": 36,
      "id": "fb555d9c",
      "metadata": {
        "id": "fb555d9c",
        "colab": {
          "base_uri": "https://localhost:8080/",
          "height": 449
        },
        "outputId": "39794e74-bbbb-41d2-d092-72dcbced8945"
      },
      "outputs": [
        {
          "output_type": "display_data",
          "data": {
            "text/plain": [
              "<Figure size 640x480 with 1 Axes>"
            ],
            "image/png": "[encoded data removed]"
          },
          "metadata": {}
        }
      ],
      "source": [
        "######## PUT YOUR CODE HERE ########\n",
        "######## PUT YOUR CODE HERE ########\n",
        "gammas = [0, 0.1, 0.2, 0.3, 0.4, 0.5, 0.6, 0.7, 0.8, 0.9, 0.95, 0.99]\n",
        "y_ax = []\n",
        "for gam in gammas:\n",
        "    _, _, num = value_iteration(transition_fn, reward_fn, gamma=gam, return_per_iter=True)\n",
        "    y_ax.append(len(num))\n",
        "plt.plot(gammas, y_ax)\n",
        "plt.xlabel(\"Gammas\")\n",
        "plt.ylabel(\"# Iters until converge\")\n",
        "# plt.title(\"Problem 2.4 Graph\")\n",
        "plt.show()\n",
        "######## PUT YOUR CODE HERE ########\n",
        "######## PUT YOUR CODE HERE ########"
      ]
    },
    {
      "cell_type": "markdown",
      "id": "bf682ee7",
      "metadata": {
        "id": "bf682ee7"
      },
      "source": [
        "# Problem 2.5"
      ]
    },
    {
      "cell_type": "code",
      "execution_count": 37,
      "id": "4a99cb70",
      "metadata": {
        "id": "4a99cb70"
      },
      "outputs": [],
      "source": [
        "guess_policy = np.array(\n",
        "       [[1., 0., 0., 0.],\n",
        "        [0., 0., 0., 1.],\n",
        "        [1., 0., 0., 0.],\n",
        "        [0., 0., 0., 1.],\n",
        "        [1., 0., 0., 0.],\n",
        "        [1., 0., 0., 0.],\n",
        "        [1., 0., 0., 0.],\n",
        "        [1., 0., 0., 0.],\n",
        "        [0., 0., 0., 1.],\n",
        "        [0., 1., 0., 0.],\n",
        "        [1., 0., 0., 0.],\n",
        "        [1., 0., 0., 0.],\n",
        "        [1., 0., 0., 0.],\n",
        "        [0., 0., 1., 0.],\n",
        "        [0., 1., 0., 0.],\n",
        "        [1., 0., 0., 0.]])"
      ]
    },
    {
      "cell_type": "code",
      "execution_count": 38,
      "id": "db997933",
      "metadata": {
        "id": "db997933"
      },
      "outputs": [],
      "source": [
        "def value_iteration_with_guess_policy(transition_fn, reward_fn, gamma=0.99, theta=1e-6, guess_policy=None, return_per_iter=False):\n",
        "    \"\"\"Implements the value iteration algorithm.\n",
        "\n",
        "    Args:\n",
        "        transition_fn: A numpy ndarray of shape (num_states, num_actions, num_states)\n",
        "            denoting the transition probabilities, T(s, a, s')\n",
        "        reward_fn: A numpy ndarray of shape (num_states, num_actions, num_states)\n",
        "            denoting the reward of R(s, a, s').\n",
        "        gamma: Discount factor.\n",
        "        theta: Threshold for terminating policy evaluation.\n",
        "        guess_policy: A numpy ndarray of shape (num_states, num_actions) denoting\n",
        "            the probability of selecting an action (a) in a given state (s).\n",
        "\n",
        "    Returns:\n",
        "        optimal_policy: A numpy ndarray of shape (num_states, num_actions) denoting\n",
        "            the probability of selecting an action (a) in a given state (s).\n",
        "        optimal_v_value: A numpy ndarray of shape (num_states, ) denoting\n",
        "            the optimal value of each state (s).\n",
        "    \"\"\"\n",
        "    # Ensure input dimensions are consistent.\n",
        "    num_states, num_actions, _ = transition_fn.shape\n",
        "    assert_equal(num_states, transition_fn.shape[2])\n",
        "    assert_equal(reward_fn.shape, transition_fn.shape)\n",
        "\n",
        "    # Initialize value using guess policy\n",
        "    if guess_policy is None:\n",
        "        v_value = np.zeros(shape=(num_states, ))\n",
        "    else:\n",
        "        ######## PUT YOUR CODE HERE ########\n",
        "        v_value = policy_evaluation_v(guess_policy, transition_fn, reward_fn, gamma=gamma, theta=theta)\n",
        "\n",
        "        ######## PUT YOUR CODE HERE ########\n",
        "    '''\n",
        "    # Perform value iteration to compute optimal V\n",
        "    num_iteration = 0\n",
        "    while True:\n",
        "        delta = 0\n",
        "        ######## PUT YOUR CODE HERE ########\n",
        "\n",
        "        ######## PUT YOUR CODE HERE ########\n",
        "        num_iteration += 1\n",
        "        if delta < theta:\n",
        "            break\n",
        "    optimal_v_value = v_value\n",
        "    print(\"Number of iterations = \" + str(num_iteration))\n",
        "\n",
        "    # Compute optimal Q from optimal V\n",
        "    optimal_q_value = np.zeros(shape=(num_states, num_actions))\n",
        "    ######## PUT YOUR CODE HERE ########\n",
        "\n",
        "    ######## PUT YOUR CODE HERE ########\n",
        "\n",
        "    # Compute optimal policy from optimal Q\n",
        "    optimal_policy = np.zeros(shape=(num_states, num_actions))\n",
        "    for s in range(num_states):\n",
        "        optimal_action_in_s = optimal_q_value[s].argmax()\n",
        "        optimal_policy[s, optimal_action_in_s] = 1.\n",
        "\n",
        "    return (optimal_policy, optimal_v_value)'''\n",
        "    return value_iteration(transition_fn, reward_fn, gamma, theta, return_per_iter, guess=v_value)"
      ]
    },
    {
      "cell_type": "markdown",
      "id": "80c03f57",
      "metadata": {
        "id": "80c03f57"
      },
      "source": [
        "#### Grader Code"
      ]
    },
    {
      "cell_type": "code",
      "execution_count": 39,
      "id": "071f0a2e",
      "metadata": {
        "id": "071f0a2e",
        "colab": {
          "base_uri": "https://localhost:8080/"
        },
        "outputId": "e5cdc2b0-d35a-4d25-ae67-417bb9eb3a37"
      },
      "outputs": [
        {
          "output_type": "stream",
          "name": "stdout",
          "text": [
            "Without guess policy: \n",
            "\b228 iterations\n",
            "With guess policy: \n",
            "\b155 iterations\n"
          ]
        }
      ],
      "source": [
        "print(\"Without guess policy: \")\n",
        "_ = value_iteration_with_guess_policy(transition_fn, reward_fn, gamma=0.99, return_per_iter=True) # added flag to return # iterations\n",
        "print(\"\\b\" + str(len(_[2])) + \" iterations\") # and added external print statement -- grader code functionality is otherwise unaltered\n",
        "\n",
        "print(\"With guess policy: \")\n",
        "_ = value_iteration_with_guess_policy(transition_fn, reward_fn, gamma=0.99, guess_policy=guess_policy, return_per_iter=True)\n",
        "print(\"\\b\" + str(len(_[2])) + \" iterations\")"
      ]
    },
    {
      "cell_type": "markdown",
      "source": [
        "Pls do not execute me for adding flags to the grader code... the testing functionality remains the exact same... I just wanted to not have to put the print statement inside the method and then add a verbose flag to turn it off for my other testing... I'm simply printing the iterations externally, as you can see."
      ],
      "metadata": {
        "id": "KN214DoHoQYJ"
      },
      "id": "KN214DoHoQYJ"
    },
    {
      "cell_type": "markdown",
      "id": "84c25daa",
      "metadata": {
        "id": "84c25daa"
      },
      "source": [
        "# Problem 3.2\n",
        "\n",
        "In this problem, we will use the policy iteration algorithm to compute the optimal policy."
      ]
    },
    {
      "cell_type": "code",
      "execution_count": 55,
      "id": "eb821193",
      "metadata": {
        "id": "eb821193"
      },
      "outputs": [],
      "source": [
        "def policy_iteration(transition_fn, reward_fn, gamma=0.99, theta=1e-6, return_per_iter=False):\n",
        "    \"\"\"Implements the policy iteration algorithm.\n",
        "\n",
        "    Args:\n",
        "        transition_fn: A numpy ndarray of shape (num_states, num_actions, num_states)\n",
        "            denoting the transition probabilities, T(s, a, s')\n",
        "        reward_fn: A numpy ndarray of shape (num_states, num_actions, num_states)\n",
        "            denoting the reward of R(s, a, s').\n",
        "        gamma: Discount factor.\n",
        "\n",
        "    Returns:\n",
        "        optimal_policy: A numpy ndarray of shape (num_states, num_actions) denoting\n",
        "            the probability of selecting an action (a) in a given state (s).\n",
        "    \"\"\"\n",
        "    # Ensure input dimensions are consistent.\n",
        "    num_states, num_actions, _ = transition_fn.shape\n",
        "    assert_equal(num_states, transition_fn.shape[2])\n",
        "    assert_equal(reward_fn.shape, transition_fn.shape)\n",
        "\n",
        "    # Initialize policy\n",
        "    policy = np.zeros(shape=(num_states, num_actions))\n",
        "\n",
        "    # Perform policy iteration to compute optimal V\n",
        "    num_iteration = 0\n",
        "    while True:\n",
        "        delta = 0\n",
        "\n",
        "        # Policy Evaluation\n",
        "        ######## PUT YOUR CODE HERE ########\n",
        "        # v_values = policy_evaluation_v(policy, transition_fn,\n",
        "        #                                reward_fn,\n",
        "        #                                gamma,\n",
        "        #                                theta)\n",
        "        ######## PUT YOUR CODE HERE ########\n",
        "\n",
        "        # Policy Improvement\n",
        "        ######## PUT YOUR CODE HERE ########\n",
        "        # recognize that policy evaluation algorithm just uses q\n",
        "        # and replaces current state's policy with the best q\n",
        "        poli_q = policy_evaluation_q(policy, transition_fn,\n",
        "                                     reward_fn,\n",
        "                                     gamma,\n",
        "                                     theta)\n",
        "        #print(poli_q.shape)\n",
        "\n",
        "        oldpolicy = policy.copy()\n",
        "        best_action = np.argmax(poli_q, axis=1)\n",
        "        for s_i in range(num_states):\n",
        "          # one hot encode\n",
        "          policy[s_i] = np.array([1 if i==best_action[s_i] else 0 for i in range(num_actions)])\n",
        "          #print(policy[s_i], \"poli\")\n",
        "        ######## PUT YOUR CODE HERE ########\n",
        "\n",
        "        num_iteration += 1\n",
        "        # Termination Condition\n",
        "        ######## PUT YOUR CODE HERE ########\n",
        "        if np.max(np.abs(oldpolicy - policy)) < theta:\n",
        "          break\n",
        "        ######## PUT YOUR CODE HERE ########\n",
        "\n",
        "    optimal_policy = policy.copy()\n",
        "    optimal_v_value = policy_evaluation_v(policy, transition_fn, reward_fn, gamma)\n",
        "\n",
        "    return (optimal_policy, optimal_v_value) if not return_per_iter else (optimal_policy, optimal_v_value, num_iteration)"
      ]
    },
    {
      "cell_type": "markdown",
      "id": "042f4fe3",
      "metadata": {
        "id": "042f4fe3"
      },
      "source": [
        "#### Test Code"
      ]
    },
    {
      "cell_type": "code",
      "execution_count": 41,
      "id": "7e8a400c",
      "metadata": {
        "id": "7e8a400c"
      },
      "outputs": [],
      "source": [
        "def test_policy_iteration(test_v_value, transition_fn, reward_fn, gamma):\n",
        "    \"\"\"Test code for policy iteration.\"\"\"\n",
        "    _, optimal_v_value = policy_iteration(transition_fn, reward_fn, gamma)\n",
        "    try:\n",
        "        assert_almost_equal(test_v_value, optimal_v_value, decimal=2)\n",
        "    except AssertionError:\n",
        "        print(\"The optimal V value for gamma = \" + str(gamma) + \" is incorrect.\")\n",
        "    else:\n",
        "        print(\"The optimal V value for gamma = \" + str(gamma) + \" is correct.\")"
      ]
    },
    {
      "cell_type": "code",
      "execution_count": 42,
      "id": "792d9b04",
      "metadata": {
        "id": "792d9b04",
        "colab": {
          "base_uri": "https://localhost:8080/"
        },
        "outputId": "964ded90-1957-4782-ee4f-1772308272bc"
      },
      "outputs": [
        {
          "output_type": "stream",
          "name": "stdout",
          "text": [
            "The optimal V value for gamma = 0.0 is correct.\n"
          ]
        }
      ],
      "source": [
        "test_v_value_for_gamma_000 = np.array(\n",
        "     [0.       ,0.       ,0.       ,0.      ,\n",
        "      0.       ,0.       ,0.       ,0.      ,\n",
        "      0.       ,0.       ,0.       ,0.      ,\n",
        "      0.       ,0.       ,0.333333 ,0.      ])\n",
        "test_policy_iteration(test_v_value_for_gamma_000, transition_fn, reward_fn, gamma=0.0)"
      ]
    },
    {
      "cell_type": "code",
      "execution_count": 43,
      "id": "ac03f27c",
      "metadata": {
        "id": "ac03f27c",
        "colab": {
          "base_uri": "https://localhost:8080/"
        },
        "outputId": "7a677bf0-7578-4dea-c2c9-279abcc2b5af"
      },
      "outputs": [
        {
          "output_type": "stream",
          "name": "stdout",
          "text": [
            "The optimal V value for gamma = 0.9 is correct.\n"
          ]
        }
      ],
      "source": [
        "test_v_value_for_gamma_090 = np.array(\n",
        "    [0.068886 ,0.061411 ,0.074408 ,0.055805,\n",
        "     0.091851 ,0.       ,0.112207 ,0.      ,\n",
        "     0.145434 ,0.247496 ,0.299617 ,0.      ,\n",
        "     0.       ,0.379935 ,0.63902  ,0.      ])\n",
        "test_policy_iteration(test_v_value_for_gamma_090, transition_fn, reward_fn, gamma=0.9)"
      ]
    },
    {
      "cell_type": "markdown",
      "id": "b5f954fa",
      "metadata": {
        "id": "b5f954fa"
      },
      "source": [
        "#### Grader Code"
      ]
    },
    {
      "cell_type": "code",
      "execution_count": 44,
      "id": "be4f7840",
      "metadata": {
        "id": "be4f7840",
        "colab": {
          "base_uri": "https://localhost:8080/"
        },
        "outputId": "cd55ce86-7b5b-45b2-c4be-2035257da382"
      },
      "outputs": [
        {
          "output_type": "stream",
          "name": "stdout",
          "text": [
            "The optimal V value for gamma = 0.0 is correct.\n",
            "The optimal V value for gamma = 0.9 is correct.\n"
          ]
        }
      ],
      "source": [
        "test_policy_iteration(test_v_value_for_gamma_000, transition_fn, reward_fn, gamma=0.0)\n",
        "test_policy_iteration(test_v_value_for_gamma_090, transition_fn, reward_fn, gamma=0.9)"
      ]
    },
    {
      "cell_type": "code",
      "execution_count": 45,
      "id": "a16c00d7",
      "metadata": {
        "id": "a16c00d7",
        "colab": {
          "base_uri": "https://localhost:8080/",
          "height": 106
        },
        "outputId": "458c7a93-1de6-48c8-d26b-929a17cf6c56"
      },
      "outputs": [
        {
          "output_type": "display_data",
          "data": {
            "text/plain": [
              "<Figure size 1000x1000 with 1 Axes>"
            ],
            "image/png": "[encoded data removed]"
          },
          "metadata": {}
        }
      ],
      "source": [
        "def plot_grader_policy_iteration():\n",
        "    grader_optimal_policy, grader_optimal_v_value = policy_iteration(transition_fn, reward_fn, gamma=0.99)\n",
        "\n",
        "    fig, ax = plt.subplots()\n",
        "    im = ax.imshow(grader_optimal_v_value.reshape((1, num_states)), cmap=\"viridis\")\n",
        "\n",
        "    ax.set_xticks(np.arange(num_states))\n",
        "\n",
        "    for s in range(num_states):\n",
        "        text = ax.text(s, 0, round(grader_optimal_v_value[s],3), ha=\"center\", va=\"center\", color=\"w\", fontsize=10)\n",
        "\n",
        "    ax.set_title('V Value of Optimal Policy')\n",
        "    fig.set_size_inches(10., 10.)\n",
        "    fig.tight_layout()\n",
        "    plt.xlabel('State')\n",
        "    plt.ylabel('Value')\n",
        "    plt.show()\n",
        "\n",
        "plot_grader_policy_iteration()"
      ]
    },
    {
      "cell_type": "code",
      "source": [
        "_, optimal_v_value, niter = policy_iteration(transition_fn, reward_fn, gamma=0.9, return_per_iter=True)\n",
        "print(niter)"
      ],
      "metadata": {
        "colab": {
          "base_uri": "https://localhost:8080/"
        },
        "id": "5Dk1vJj3mXUY",
        "outputId": "cb29c0af-bc1b-4fbc-bfb2-b9b350ef2b93"
      },
      "id": "5Dk1vJj3mXUY",
      "execution_count": 58,
      "outputs": [
        {
          "output_type": "stream",
          "name": "stdout",
          "text": [
            "6\n"
          ]
        }
      ]
    },
    {
      "cell_type": "markdown",
      "id": "2001e270",
      "metadata": {
        "id": "2001e270"
      },
      "source": [
        "## Halfway There!\n",
        "Great! You have now completed the programming component of Problems 1-3."
      ]
    }
  ],
  "metadata": {
    "kernelspec": {
      "display_name": "Python 3 (ipykernel)",
      "language": "python",
      "name": "python3"
    },
    "language_info": {
      "codemirror_mode": {
        "name": "ipython",
        "version": 3
      },
      "file_extension": ".py",
      "mimetype": "text/x-python",
      "name": "python",
      "nbconvert_exporter": "python",
      "pygments_lexer": "ipython3",
      "version": "3.10.4"
    },
    "colab": {
      "provenance": []
    }
  },
  "nbformat": 4,
  "nbformat_minor": 5
}